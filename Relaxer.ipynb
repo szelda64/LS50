{
  "nbformat": 4,
  "nbformat_minor": 0,
  "metadata": {
    "colab": {
      "provenance": [],
      "mount_file_id": "1N1KapEYzqSGM40pkqShIE_y5GrlLkk9M",
      "authorship_tag": "ABX9TyPBGbvuu6a/eyPLaKP6ca00",
      "include_colab_link": true
    },
    "kernelspec": {
      "name": "python3",
      "display_name": "Python 3"
    },
    "language_info": {
      "name": "python"
    }
  },
  "cells": [
    {
      "cell_type": "markdown",
      "metadata": {
        "id": "view-in-github",
        "colab_type": "text"
      },
      "source": [
        "<a href=\"https://colab.research.google.com/github/szelda64/LS50/blob/main/Relaxer.ipynb\" target=\"_parent\"><img src=\"https://colab.research.google.com/assets/colab-badge.svg\" alt=\"Open In Colab\"/></a>"
      ]
    },
    {
      "cell_type": "code",
      "execution_count": 23,
      "metadata": {
        "colab": {
          "base_uri": "https://localhost:8080/"
        },
        "id": "ZsxpPJUjcKzq",
        "outputId": "105d9aa7-9622-43e5-a3b5-1bc074922c58"
      },
      "outputs": [
        {
          "output_type": "stream",
          "name": "stdout",
          "text": [
            "CPU times: user 131 µs, sys: 0 ns, total: 131 µs\n",
            "Wall time: 138 µs\n"
          ]
        }
      ],
      "source": [
        "%%time\n",
        "#@title Setup AlphaFold2 and OpenMM\n",
        "import sys, os\n",
        "from sys import version_info\n",
        "PYTHON_VERSION = f\"{version_info.major}.{version_info.minor}\"\n",
        "\n",
        "if not os.path.isfile(\"ALPHAFOLD_READY\"):\n",
        "  print(\"installing AlphaFold...\")\n",
        "  os.system(\"pip install alphafold-colabfold\")\n",
        "  os.system(\"ln -s /usr/local/lib/python3.*/dist-packages/alphafold alphafold\")\n",
        "  os.system(\"touch ALPHAFOLD_READY\")\n",
        "\n",
        "if not os.path.isfile(\"CONDA_READY\"):\n",
        "  print(\"installing conda...\")\n",
        "  os.system(\"wget -qnc https://github.com/conda-forge/miniforge/releases/latest/download/Mambaforge-Linux-x86_64.sh\")\n",
        "  os.system(\"bash Mambaforge-Linux-x86_64.sh -bfp /usr/local\")\n",
        "  os.system(\"mamba config --set auto_update_conda false\")\n",
        "  os.system(\"touch CONDA_READY\")\n",
        "\n",
        "if not os.path.isfile(\"AMBER_READY\"):\n",
        "  print(\"installing amber...\")\n",
        "  os.system(f\"mamba install -y -q -c conda-forge openmm=7.7.0 python='{PYTHON_VERSION}' pdbfixer 2>&1 1>/dev/null\")\n",
        "  os.system(\"touch AMBER_READY\")\n",
        "\n",
        "PATH = f\"/usr/local/lib/python{PYTHON_VERSION}/site-packages/\"\n",
        "if PATH not in sys.path:\n",
        "  sys.path.insert(0, PATH)\n",
        "\n",
        "import warnings\n",
        "warnings.simplefilter(action='ignore', category=FutureWarning)\n",
        "\n",
        "from alphafold.relax import relax\n",
        "from alphafold.relax import utils\n",
        "from alphafold.common import protein, residue_constants\n",
        "\n",
        "MODRES = {'MSE':'MET','MLY':'LYS','FME':'MET','HYP':'PRO',\n",
        "          'TPO':'THR','CSO':'CYS','SEP':'SER','M3L':'LYS',\n",
        "          'HSK':'HIS','SAC':'SER','PCA':'GLU','DAL':'ALA',\n",
        "          'CME':'CYS','CSD':'CYS','OCS':'CYS','DPR':'PRO',\n",
        "          'B3K':'LYS','ALY':'LYS','YCM':'CYS','MLZ':'LYS',\n",
        "          '4BF':'TYR','KCX':'LYS','B3E':'GLU','B3D':'ASP',\n",
        "          'HZP':'PRO','CSX':'CYS','BAL':'ALA','HIC':'HIS',\n",
        "          'DBZ':'ALA','DCY':'CYS','DVA':'VAL','NLE':'LEU',\n",
        "          'SMC':'CYS','AGM':'ARG','B3A':'ALA','DAS':'ASP',\n",
        "          'DLY':'LYS','DSN':'SER','DTH':'THR','GL3':'GLY',\n",
        "          'HY3':'PRO','LLP':'LYS','MGN':'GLN','MHS':'HIS',\n",
        "          'TRQ':'TRP','B3Y':'TYR','PHI':'PHE','PTR':'TYR',\n",
        "          'TYS':'TYR','IAS':'ASP','GPL':'LYS','KYN':'TRP',\n",
        "          'CSD':'CYS','SEC':'CYS'}\n",
        "\n",
        "def pdb_to_string(pdb_file, chains=None, models=[1]):\n",
        "  '''read pdb file and return as string'''\n",
        "\n",
        "  if chains is not None:\n",
        "    if \",\" in chains: chains = chains.split(\",\")\n",
        "    if not isinstance(chains,list): chains = [chains]\n",
        "  if models is not None:\n",
        "    if not isinstance(models,list): models = [models]\n",
        "\n",
        "  modres = {**MODRES}\n",
        "  lines = []\n",
        "  seen = []\n",
        "  model = 1\n",
        "  for line in open(pdb_file,\"rb\"):\n",
        "    line = line.decode(\"utf-8\",\"ignore\").rstrip()\n",
        "    if line[:5] == \"MODEL\":\n",
        "      model = int(line[5:])\n",
        "    if models is None or model in models:\n",
        "      if line[:6] == \"MODRES\":\n",
        "        k = line[12:15]\n",
        "        v = line[24:27]\n",
        "        if k not in modres and v in residue_constants.restype_3to1:\n",
        "          modres[k] = v\n",
        "      if line[:6] == \"HETATM\":\n",
        "        k = line[17:20]\n",
        "        if k in modres:\n",
        "          line = \"ATOM  \"+line[6:17]+modres[k]+line[20:]\n",
        "      if line[:4] == \"ATOM\":\n",
        "        chain = line[21:22]\n",
        "        if chains is None or chain in chains:\n",
        "          atom = line[12:12+4].strip()\n",
        "          resi = line[17:17+3]\n",
        "          resn = line[22:22+5].strip()\n",
        "          if resn[-1].isalpha(): # alternative atom\n",
        "            resn = resn[:-1]\n",
        "            line = line[:26]+\" \"+line[27:]\n",
        "          key = f\"{model}_{chain}_{resn}_{resi}_{atom}\"\n",
        "          if key not in seen: # skip alternative placements\n",
        "            lines.append(line)\n",
        "            seen.append(key)\n",
        "      if line[:5] == \"MODEL\" or line[:3] == \"TER\" or line[:6] == \"ENDMDL\":\n",
        "        lines.append(line)\n",
        "  return \"\\n\".join(lines)\n",
        "\n",
        "def relax_me(pdb_in, pdb_out, max_iterations, tolerance, stiffness, use_gpu):\n",
        "  pdb_str = pdb_to_string(pdb_in)\n",
        "  protein_obj = protein.from_pdb_string(pdb_str)\n",
        "  amber_relaxer = relax.AmberRelaxation(\n",
        "    max_iterations=max_iterations,\n",
        "    tolerance=tolerance,\n",
        "    stiffness=stiffness,\n",
        "    exclude_residues=[],\n",
        "    max_outer_iterations=3,\n",
        "    use_gpu=use_gpu\n",
        "  )\n",
        "  relaxed_pdb_lines, _, _ = amber_relaxer.process(prot=protein_obj)\n",
        "  with open(pdb_out, 'w') as f:\n",
        "      f.write(relaxed_pdb_lines)"
      ]
    },
    {
      "cell_type": "code",
      "source": [
        "from google.colab import drive\n",
        "drive.mount('/content/drive')"
      ],
      "metadata": {
        "colab": {
          "base_uri": "https://localhost:8080/"
        },
        "id": "FGrsW2AGmonm",
        "outputId": "abafb0d6-b85b-41ef-f6f2-030908c05108"
      },
      "execution_count": 24,
      "outputs": [
        {
          "output_type": "stream",
          "name": "stdout",
          "text": [
            "Drive already mounted at /content/drive; to attempt to forcibly remount, call drive.mount(\"/content/drive\", force_remount=True).\n"
          ]
        }
      ]
    },
    {
      "cell_type": "code",
      "source": [
        "### test for one copied pdb file in my own directory:\n",
        "files = os.listdir(\"/content/drive/MyDrive/PDB Files - Copy\")\n",
        "file = files[16]\n",
        "file_path = f\"/content/drive/MyDrive/PDB Files - Copy/{file}\"\n",
        "new_file = file[:len(file)-4] + ', Relaxed.pdb'\n",
        "new_file_path = f\"/content/drive/MyDrive/PDB Files - Copy/{new_file}\"\n",
        "use_gpu=False\n",
        "max_iterations=3\n",
        "tolerance=2.39\n",
        "stiffness=10.0\n",
        "print(new_file)\n",
        "relax_me(file_path, new_file_path, max_iterations, tolerance, stiffness, use_gpu)"
      ],
      "metadata": {
        "colab": {
          "base_uri": "https://localhost:8080/"
        },
        "id": "da2wHbBtll4m",
        "outputId": "8a612b9a-a0f3-4c03-817f-077587a36310"
      },
      "execution_count": 26,
      "outputs": [
        {
          "output_type": "stream",
          "name": "stdout",
          "text": [
            "AaAF-AaSTE2, Rank_ 1, Relaxed.pdb\n"
          ]
        },
        {
          "output_type": "stream",
          "name": "stderr",
          "text": [
            "WARNING:root:Warning: importing 'simtk.openmm' is deprecated.  Import 'openmm' instead.\n"
          ]
        }
      ]
    },
    {
      "cell_type": "code",
      "source": [],
      "metadata": {
        "id": "9F8xNdkRm0my"
      },
      "execution_count": null,
      "outputs": []
    }
  ]
}